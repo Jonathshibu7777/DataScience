{
  "nbformat": 4,
  "nbformat_minor": 0,
  "metadata": {
    "colab": {
      "provenance": [],
      "authorship_tag": "ABX9TyMAYgx/N8F3Qqaqcdkpj8Sh",
      "include_colab_link": true
    },
    "kernelspec": {
      "name": "python3",
      "display_name": "Python 3"
    },
    "language_info": {
      "name": "python"
    }
  },
  "cells": [
    {
      "cell_type": "markdown",
      "metadata": {
        "id": "view-in-github",
        "colab_type": "text"
      },
      "source": [
        "<a href=\"https://colab.research.google.com/github/Jonathshibu7777/DataScience/blob/main/Statistical_Analysis_and_Linear_Algebra_Application.ipynb\" target=\"_parent\"><img src=\"https://colab.research.google.com/assets/colab-badge.svg\" alt=\"Open In Colab\"/></a>"
      ]
    },
    {
      "cell_type": "markdown",
      "source": [
        "---\n",
        "\n",
        "### Function\n",
        "\n",
        "---"
      ],
      "metadata": {
        "id": "PdztiQhXxCyQ"
      }
    },
    {
      "cell_type": "code",
      "source": [
        "import numpy as np\n",
        "vector1 = np.array([1, 2, 3])\n",
        "vector2 = np.array([4, 5, 6])\n",
        "if vector1.shape != vector2.shape:\n",
        "  raise ValueError(\"Vectors must have the same shape for dot product.\")\n",
        "result = np.dot(vector1, vector2)\n",
        "print(f\"The dot product of {vector1} and {vector2} is: {result}\")"
      ],
      "metadata": {
        "colab": {
          "base_uri": "https://localhost:8080/"
        },
        "id": "ZxPmhv5zw_54",
        "outputId": "00e70ed5-5405-447f-ef0d-df8a10913ab5"
      },
      "execution_count": null,
      "outputs": [
        {
          "output_type": "stream",
          "name": "stdout",
          "text": [
            "The dot product of [1 2 3] and [4 5 6] is: 32\n"
          ]
        }
      ]
    },
    {
      "cell_type": "markdown",
      "source": [
        "\n",
        "\n",
        "---\n",
        "Vertical Line Test\n",
        "\n",
        "\n",
        "---\n",
        "\n",
        "\n"
      ],
      "metadata": {
        "id": "e6N7CwsZoQtF"
      }
    },
    {
      "cell_type": "code",
      "source": [
        "import numpy as np\n",
        "import pandas as pd\n",
        "import matplotlib.pyplot as plt\n",
        "\n",
        "# Define the Circle Equation with radius r\n",
        "def circle(x, r):\n",
        "    return np.sqrt(r**2 - x**2), -np.sqrt(r**2 - x**2)  # Upper and Lower halves\n",
        "\n",
        "# Define the Parabola Equation y = x^2\n",
        "def parabola(x):\n",
        "    return x**2\n",
        "\n",
        "# Generate x values (in a valid range for the circle equation)\n",
        "x_values = np.linspace(-5, 5, 100)  # Choose a range that works for the circle equation (within r)\n",
        "\n",
        "# Radius for the circle\n",
        "r = 5\n",
        "\n",
        "# Get y-values for the circle and parabola\n",
        "y_circle_upper, y_circle_lower = circle(x_values, r)\n",
        "y_parabola = parabola(x_values)\n",
        "\n",
        "# Create a DataFrame using pandas to hold the data\n",
        "data = pd.DataFrame({\n",
        "    'x': x_values,\n",
        "    'y_circle_upper': y_circle_upper,\n",
        "    'y_circle_lower': y_circle_lower,\n",
        "    'y_parabola': y_parabola\n",
        "})\n",
        "\n",
        "# Display the first few rows of the data\n",
        "print(data.head())\n",
        "\n",
        "# Create a figure with two subplots\n",
        "fig, (ax1, ax2) = plt.subplots(1, 2, figsize=(12, 6))\n",
        "\n",
        "# Plot the Circle (in the first subplot)\n",
        "ax1.plot(data['x'], data['y_circle_upper'], label=\"Upper Half of Circle\")\n",
        "ax1.plot(data['x'], data['y_circle_lower'], label=\"Lower Half of Circle\", linestyle='--')\n",
        "ax1.axvline(0, color='red', linewidth=1)  # Vertical line at x = 0\n",
        "ax1.set_xlabel('x')\n",
        "ax1.set_ylabel('y')\n",
        "ax1.set_title('Circle: $x^2 + y^2 = r^2$')\n",
        "ax1.legend()\n",
        "ax1.grid(True)\n",
        "\n",
        "# Plot the Parabola (in the second subplot)\n",
        "ax2.plot(data['x'], data['y_parabola'], label=\"Parabola: $y = x^2$\", color='orange')\n",
        "ax2.axvline(0, color='red', linewidth=1)  # Vertical line at x = 0\n",
        "ax2.set_xlabel('x')\n",
        "ax2.set_ylabel('y')\n",
        "ax2.set_title('Parabola: $y = x^2$')\n",
        "ax2.legend()\n",
        "ax2.grid(True)\n",
        "\n",
        "# Adjust layout for better spacing\n",
        "plt.tight_layout()\n",
        "\n",
        "# Show the plots\n",
        "plt.show()"
      ],
      "metadata": {
        "id": "m7Vk3TwMoO-Z",
        "colab": {
          "base_uri": "https://localhost:8080/",
          "height": 698
        },
        "outputId": "55056c1d-97be-4698-d112-9ba06aa5d6c6"
      },
      "execution_count": 1,
      "outputs": [
        {
          "output_type": "stream",
          "name": "stdout",
          "text": [
            "         x  y_circle_upper  y_circle_lower  y_parabola\n",
            "0 -5.00000        0.000000       -0.000000   25.000000\n",
            "1 -4.89899        0.999949       -0.999949   24.000102\n",
            "2 -4.79798        1.406908       -1.406908   23.020610\n",
            "3 -4.69697        1.714198       -1.714198   22.061524\n",
            "4 -4.59596        1.969049       -1.969049   21.122845\n"
          ]
        },
        {
          "output_type": "display_data",
          "data": {
            "text/plain": [
              "<Figure size 1200x600 with 2 Axes>"
            ],
            "image/png": "[encoded data removed]"
          },
          "metadata": {}
        }
      ]
    },
    {
      "cell_type": "markdown",
      "source": [
        "---\n",
        "\n",
        "### Exponential\n",
        "\n",
        "---"
      ],
      "metadata": {
        "id": "tT5L_R8R6CuP"
      }
    },
    {
      "cell_type": "code",
      "source": [
        "import pandas as pd\n",
        "import numpy as np\n",
        "data = {\n",
        "    'A': [1, 2, 3],\n",
        "    'B': [4, 5, 6],\n",
        "    'C': [7, 8, 9]\n",
        "}\n",
        "\n",
        "df = pd.DataFrame(data)\n",
        "\n",
        "df_exp = np.exp(df)\n",
        "\n",
        "print(\"Original DataFrame:\")\n",
        "print(df)\n",
        "\n",
        "print(\"\\nDataFrame with Exponential Applied:\")\n",
        "print(df_exp)"
      ],
      "metadata": {
        "id": "H384-8wF6MIE",
        "colab": {
          "base_uri": "https://localhost:8080/"
        },
        "outputId": "03cbf05a-ecb7-4489-81ca-6cbd2a74860a"
      },
      "execution_count": null,
      "outputs": [
        {
          "output_type": "stream",
          "name": "stdout",
          "text": [
            "Original DataFrame:\n",
            "   A  B  C\n",
            "0  1  4  7\n",
            "1  2  5  8\n",
            "2  3  6  9\n",
            "\n",
            "DataFrame with Exponential Applied:\n",
            "           A           B            C\n",
            "0   2.718282   54.598150  1096.633158\n",
            "1   7.389056  148.413159  2980.957987\n",
            "2  20.085537  403.428793  8103.083928\n"
          ]
        }
      ]
    },
    {
      "cell_type": "markdown",
      "source": [
        "---\n",
        "\n",
        "### Logarithamic Function\n",
        "\n",
        "\n",
        "---"
      ],
      "metadata": {
        "id": "ETcaOedV6zUJ"
      }
    },
    {
      "cell_type": "code",
      "source": [
        "import pandas as pd\n",
        "import numpy as np\n",
        "data = {\n",
        "    'A': [1, 10, 100],\n",
        "    'B': [2, 20, 200],\n",
        "    'C': [3, 30, 300]\n",
        "}\n",
        "\n",
        "df = pd.DataFrame(data)\n",
        "\n",
        "df_log = np.log(df)\n",
        "\n",
        "df_log10 = np.log10(df)\n",
        "\n",
        "print(\"Original DataFrame:\")\n",
        "print(df)\n",
        "\n",
        "print(\"\\nDataFrame with Natural Logarithm (ln) Applied:\")\n",
        "print(df_log)\n",
        "\n",
        "print(\"\\nDataFrame with Base-10 Logarithm Applied:\")\n",
        "print(df_log10)"
      ],
      "metadata": {
        "colab": {
          "base_uri": "https://localhost:8080/"
        },
        "id": "zp1H_eM57Gvs",
        "outputId": "6ffb6643-adfe-40c8-d182-56aa22c9ae9e"
      },
      "execution_count": null,
      "outputs": [
        {
          "output_type": "stream",
          "name": "stdout",
          "text": [
            "Original DataFrame:\n",
            "     A    B    C\n",
            "0    1    2    3\n",
            "1   10   20   30\n",
            "2  100  200  300\n",
            "\n",
            "DataFrame with Natural Logarithm (ln) Applied:\n",
            "          A         B         C\n",
            "0  0.000000  0.693147  1.098612\n",
            "1  2.302585  2.995732  3.401197\n",
            "2  4.605170  5.298317  5.703782\n",
            "\n",
            "DataFrame with Base-10 Logarithm Applied:\n",
            "     A        B         C\n",
            "0  0.0  0.30103  0.477121\n",
            "1  1.0  1.30103  1.477121\n",
            "2  2.0  2.30103  2.477121\n"
          ]
        }
      ]
    },
    {
      "cell_type": "markdown",
      "source": [
        "\n",
        "\n",
        "---\n",
        "\n",
        "### Matrix\n",
        "\n",
        "---\n",
        "\n"
      ],
      "metadata": {
        "id": "r8j8LNhQsTCZ"
      }
    },
    {
      "cell_type": "code",
      "source": [
        "A=[\n",
        "    [1,2,3],\n",
        "    [4,5,6],\n",
        "    [7,8,9]\n",
        "]\n",
        "B=[\n",
        "    [9,8,7],\n",
        "    [6,5,4],\n",
        "    [3,2,1]\n",
        "]\n",
        "#Add\n",
        "def add_matrices(mat1,mat2):\n",
        "  rows,cols=len(mat1),len(mat1[0])\n",
        "  return [[mat1[i][j]+mat2[i][j] for j in range(cols)] for i in range(rows)]\n",
        "\n",
        "#Substract\n",
        "def sub_matrices(mat1,mat2):\n",
        "  rows,cols=len(mat1),len(mat1[0])\n",
        "  return [[mat1[i][j]-mat2[i][j] for j in range(cols)] for i in range(rows)]\n",
        "\n",
        "#Multiplication\n",
        "def multiply_matrices(mat1, mat2):\n",
        "    rows, cols, common = len(mat1), len(mat2[0]), len(mat2)\n",
        "    result = [[0 for _ in range(cols)] for _ in range(rows)]\n",
        "    for i in range(rows):\n",
        "        for j in range(cols):\n",
        "            for k in range(common):\n",
        "                result[i][j] += mat1[i][k] * mat2[k][j]\n",
        "    return result\n",
        "#Division\n",
        "def divide_matrices(mat1, mat2):\n",
        "    rows, cols = len(mat1), len(mat1[0])\n",
        "    return [[mat1[i][j] / mat2[i][j] if mat2[i][j] != 0 else None for j in range(cols)] for i in range(rows)]\n",
        "\n",
        "# Perform operations\n",
        "addition = add_matrices(A, B)\n",
        "subtraction = sub_matrices(A, B)\n",
        "\n",
        "# To multiply, matrices must be compatible\n",
        "multiplication = multiply_matrices(A, [[row[i] for row in B] for i in range(len(B[0]))])\n",
        "\n",
        "# Division\n",
        "division = divide_matrices(A, B)\n",
        "\n",
        "# Display results\n",
        "print(\"Matrix A:\")\n",
        "for row in A:\n",
        "    print(row)\n",
        "print(\"\\nMatrix B:\")\n",
        "for row in B:\n",
        "    print(row)\n",
        "print(\"\\nAddition:\")\n",
        "for row in addition:\n",
        "    print(row)\n",
        "print(\"\\nSubtraction:\")\n",
        "for row in subtraction:\n",
        "    print(row)\n",
        "print(\"\\nMultiplication:\")\n",
        "for row in multiplication:\n",
        "    print(row)\n",
        "print(\"\\nElement-wise Division:\")\n",
        "for row in division:\n",
        "    print(row)"
      ],
      "metadata": {
        "colab": {
          "base_uri": "https://localhost:8080/"
        },
        "id": "9UebSRJTsWRr",
        "outputId": "f1e60285-6736-416d-8e61-e1ad3fdd810b"
      },
      "execution_count": null,
      "outputs": [
        {
          "output_type": "stream",
          "name": "stdout",
          "text": [
            "Matrix A:\n",
            "[1, 2, 3]\n",
            "[4, 5, 6]\n",
            "[7, 8, 9]\n",
            "\n",
            "Matrix B:\n",
            "[9, 8, 7]\n",
            "[6, 5, 4]\n",
            "[3, 2, 1]\n",
            "\n",
            "Addition:\n",
            "[10, 10, 10]\n",
            "[10, 10, 10]\n",
            "[10, 10, 10]\n",
            "\n",
            "Subtraction:\n",
            "[-8, -6, -4]\n",
            "[-2, 0, 2]\n",
            "[4, 6, 8]\n",
            "\n",
            "Multiplication:\n",
            "[46, 28, 10]\n",
            "[118, 73, 28]\n",
            "[190, 118, 46]\n",
            "\n",
            "Element-wise Division:\n",
            "[0.1111111111111111, 0.25, 0.42857142857142855]\n",
            "[0.6666666666666666, 1.0, 1.5]\n",
            "[2.3333333333333335, 4.0, 9.0]\n"
          ]
        }
      ]
    },
    {
      "cell_type": "markdown",
      "source": [
        "\n",
        "\n",
        "*   Matrices are used to organize and process data in a way that computers can handle efficiently\n",
        "*   Matrices help reduce large amounts of data into smaller, more manageable chunks while keeping the important details. For example, finding patterns in thousands of customer reviews.\n",
        "*  Useful in image editing or when cleaning messy data.\n",
        "*   like figuring out the best fit line in a graph. Matrices make this faster.\n",
        "*   Social networks, like Facebook, use matrices to track who’s connected to whom.\n",
        "\n",
        "\n",
        "1.   PCA looks for patterns in the data by finding the directions (or components) where the data varies the most. These directions are called principal components. PCA reduces the data to just 1 column, keeping most of the information by projecting the data onto the most important direction (the one with the most variation).\n",
        "\n",
        "\n"
      ],
      "metadata": {
        "id": "gEUsghTZuRyV"
      }
    },
    {
      "cell_type": "markdown",
      "source": [
        "---\n",
        "## Transpose Of A Matrix\n",
        "---\n",
        "\n"
      ],
      "metadata": {
        "id": "snh41doaQQCp"
      }
    },
    {
      "cell_type": "markdown",
      "source": [
        "### From Scratch"
      ],
      "metadata": {
        "id": "CQI5-RvcQfML"
      }
    },
    {
      "cell_type": "code",
      "source": [
        "import pandas as pd"
      ],
      "metadata": {
        "id": "r46JPYR9QX8h"
      },
      "execution_count": null,
      "outputs": []
    },
    {
      "cell_type": "code",
      "source": [
        "matrix=[\n",
        "    [1,2,3],\n",
        "    [4,5,6],\n",
        "    [7,8,9]\n",
        "]"
      ],
      "metadata": {
        "id": "vzcC1VeSQ8KW"
      },
      "execution_count": null,
      "outputs": []
    },
    {
      "cell_type": "code",
      "source": [
        "df=pd.DataFrame(matrix)\n",
        "print(\"Original Matrix\")\n",
        "print(df)"
      ],
      "metadata": {
        "colab": {
          "base_uri": "https://localhost:8080/"
        },
        "id": "unK3MsNmRIiU",
        "outputId": "752594c8-c979-4b84-a134-cff7216d6f3b"
      },
      "execution_count": null,
      "outputs": [
        {
          "output_type": "stream",
          "name": "stdout",
          "text": [
            "Original Matrix\n",
            "   0  1  2\n",
            "0  1  2  3\n",
            "1  4  5  6\n",
            "2  7  8  9\n"
          ]
        }
      ]
    },
    {
      "cell_type": "code",
      "source": [
        "transposed_df = df.T\n",
        "print(\"\\nTransposed Matrix:\")\n",
        "print(transposed_df)"
      ],
      "metadata": {
        "colab": {
          "base_uri": "https://localhost:8080/"
        },
        "id": "-6OKV8MDRWnf",
        "outputId": "49f7bb33-a46e-4b24-e4f8-82acc471a628"
      },
      "execution_count": null,
      "outputs": [
        {
          "output_type": "stream",
          "name": "stdout",
          "text": [
            "\n",
            "Transposed Matrix:\n",
            "   0  1  2\n",
            "0  1  4  7\n",
            "1  2  5  8\n",
            "2  3  6  9\n"
          ]
        }
      ]
    },
    {
      "cell_type": "markdown",
      "source": [
        "\n",
        "---\n",
        "\n",
        "### create a matrix so that it elements can be added from terminal in pandas\n",
        "\n",
        "---\n",
        "\n"
      ],
      "metadata": {
        "id": "3nWk8myuwa99"
      }
    },
    {
      "cell_type": "code",
      "source": [
        "import pandas as pd\n",
        "\n",
        "# Get matrix dimensions from the user\n",
        "rows = int(input(\"Enter the number of rows: \"))\n",
        "cols = int(input(\"Enter the number of columns: \"))\n",
        "\n",
        "# Initialize an empty list to store the rows\n",
        "matrix = []\n",
        "\n",
        "# Loop to collect input for each row\n",
        "for i in range(rows):\n",
        "    print(f\"Enter the elements of row {i+1}, separated by spaces:\")\n",
        "    row = list(map(int, input().split()))\n",
        "    if len(row) != cols:\n",
        "        print(f\"Error: You must enter exactly {cols} elements.\")\n",
        "        exit()\n",
        "    matrix.append(row)\n",
        "\n",
        "# Create a DataFrame from the collected data\n",
        "df1 = pd.DataFrame(matrix)\n",
        "\n",
        "print(\"\\nHere is your matrix in pandas DataFrame format:\")\n",
        "print(df1)"
      ],
      "metadata": {
        "colab": {
          "base_uri": "https://localhost:8080/"
        },
        "id": "UT_IFOqNwfAE",
        "outputId": "714bd763-6dc8-42dc-bfa3-a2369bee36af"
      },
      "execution_count": null,
      "outputs": [
        {
          "output_type": "stream",
          "name": "stdout",
          "text": [
            "Enter the number of rows: 3\n",
            "Enter the number of columns: 3\n",
            "Enter the elements of row 1, separated by spaces:\n",
            "4 5 6\n",
            "Enter the elements of row 2, separated by spaces:\n",
            "5 6 7\n",
            "Enter the elements of row 3, separated by spaces:\n",
            "6 7 8\n",
            "\n",
            "Here is your matrix in pandas DataFrame format:\n",
            "   0  1  2\n",
            "0  4  5  6\n",
            "1  5  6  7\n",
            "2  6  7  8\n"
          ]
        }
      ]
    },
    {
      "cell_type": "markdown",
      "source": [
        "---\n",
        "\n",
        "### Inverse Function\n",
        "\n",
        "---\n",
        "\n"
      ],
      "metadata": {
        "id": "N2HG2W4N5gHK"
      }
    },
    {
      "cell_type": "code",
      "source": [
        "import pandas as pd\n",
        "import numpy as np\n",
        "matrix = pd.DataFrame([\n",
        "    [2, 1, 1],\n",
        "    [1, 3, 2],\n",
        "    [1, 0, 0]\n",
        "])\n",
        "\n",
        "matrix_np =matrix.to_numpy()\n",
        "try:\n",
        "  inverse_np=np.linalg.inv(matrix_np)\n",
        "  inverse_df=pd.DataFrame(inverse_np,columns=matrix.columns, index=matrix.index)\n",
        "  print(\"Inverse Matrix\")\n",
        "  print(inverse_df)\n",
        "except np.linalg.LinAlgError:\n",
        "  print(\"The matrix is not invertible\")"
      ],
      "metadata": {
        "colab": {
          "base_uri": "https://localhost:8080/"
        },
        "id": "BKIVWmQU5clx",
        "outputId": "13509f86-7610-4705-fcb2-ef6019efdf64"
      },
      "execution_count": null,
      "outputs": [
        {
          "output_type": "stream",
          "name": "stdout",
          "text": [
            "Inverse Matrix\n",
            "     0    1    2\n",
            "0  0.0  0.0  1.0\n",
            "1 -2.0  1.0  3.0\n",
            "2  3.0 -1.0 -5.0\n"
          ]
        }
      ]
    },
    {
      "cell_type": "markdown",
      "source": [
        "---\n",
        "\n",
        "### Cofactor\n",
        "\n",
        "---\n",
        "\n"
      ],
      "metadata": {
        "id": "SUINKxkKVSrV"
      }
    },
    {
      "cell_type": "markdown",
      "source": [
        "It is a number that is obtained by elimminating its rows and columns"
      ],
      "metadata": {
        "id": "AXaANp_A0URo"
      }
    },
    {
      "cell_type": "code",
      "source": [
        "import pandas as pd\n",
        "import numpy as np\n",
        "\n",
        "def inverse_matrix(matrix):\n",
        "    \"\"\"Compute the inverse of a square matrix using pandas.\"\"\"\n",
        "    # Convert pandas DataFrame to numpy array\n",
        "    np_matrix = matrix.to_numpy()\n",
        "\n",
        "    # Calculate the determinant\n",
        "    det = np.linalg.det(np_matrix)\n",
        "    if det == 0:\n",
        "        raise ValueError(\"Matrix is singular and cannot be inverted.\")\n",
        "\n",
        "    # Calculate the inverse using numpy\n",
        "    np_inverse = np.linalg.inv(np_matrix)\n",
        "\n",
        "    # Convert the numpy array back to pandas DataFrame\n",
        "    inverse_df = pd.DataFrame(np_inverse, index=matrix.index, columns=matrix.columns)\n",
        "\n",
        "    return inverse_df\n",
        "\n",
        "# Example matrix as a pandas DataFrame\n",
        "data = [[4, 7, 2],\n",
        "        [3, 6, 1],\n",
        "        [2, 5, 3]]\n",
        "\n",
        "matrix = pd.DataFrame(data, index=['Row1', 'Row2', 'Row3'], columns=['Col1', 'Col2', 'Col3'])\n",
        "\n",
        "# Compute the inverse matrix\n",
        "inverse = inverse_matrix(matrix)\n",
        "\n",
        "print(\"Original Matrix:\")\n",
        "print(matrix)\n",
        "print(\"\\nInverse Matrix:\")\n",
        "print(inverse)"
      ],
      "metadata": {
        "colab": {
          "base_uri": "https://localhost:8080/"
        },
        "id": "XgUQ-X1v7D8y",
        "outputId": "93eacc82-1204-40b1-c506-04ebd8ce781c"
      },
      "execution_count": null,
      "outputs": [
        {
          "output_type": "stream",
          "name": "stdout",
          "text": [
            "Original Matrix:\n",
            "      Col1  Col2  Col3\n",
            "Row1     4     7     2\n",
            "Row2     3     6     1\n",
            "Row3     2     5     3\n",
            "\n",
            "Inverse Matrix:\n",
            "          Col1      Col2      Col3\n",
            "Row1  1.444444 -1.222222 -0.555556\n",
            "Row2 -0.777778  0.888889  0.222222\n",
            "Row3  0.333333 -0.666667  0.333333\n"
          ]
        }
      ]
    },
    {
      "cell_type": "markdown",
      "source": [
        "---\n",
        "\n",
        "### Adjoint of a Matrix\n",
        "\n",
        "---\n",
        "\n"
      ],
      "metadata": {
        "id": "AD22olR_8uy9"
      }
    },
    {
      "cell_type": "markdown",
      "source": [
        "Adjoint is defined as the transpose of a matrix"
      ],
      "metadata": {
        "id": "i7hdNWk00JI4"
      }
    },
    {
      "cell_type": "code",
      "source": [
        "import numpy as np\n",
        "import pandas as pd\n",
        "data=[\n",
        "    [4,7,2],\n",
        "    [3,6,1],\n",
        "    [2,5,3]\n",
        "]\n",
        "matrix=pd.DataFrame(data,index=['Row1','Row2','Row3'], columns=['Col1','Col2','Col3'])\n",
        "n=matrix.shape[0]\n",
        "cofactor_mat=pd.DataFrame(np.zeros((n,n)),columns=matrix.columns, index=matrix.index)\n",
        "for i in range(n):\n",
        "  for j in range(n):\n",
        "    minor=matrix.drop(index=matrix.index[i]).drop(columns=matrix.columns[j])\n",
        "    det_minor = minor.iloc[0, 0] * minor.iloc[1, 1] - minor.iloc[0, 1] * minor.iloc[1, 0]\n",
        "    cofactor_mat.iloc[i,j] = ((-1)**(i+j)) * det_minor\n",
        "adjoint_matrix = cofactor_mat.transpose()\n",
        "print(\"Original Matrix:\")\n",
        "print(matrix)\n",
        "print(\"Adjoint Matrix\")\n",
        "print(adjoint_matrix)"
      ],
      "metadata": {
        "colab": {
          "base_uri": "https://localhost:8080/"
        },
        "id": "LMnh4qn49AOT",
        "outputId": "e97f579d-4e52-4433-f7a7-df3cca503ed2"
      },
      "execution_count": null,
      "outputs": [
        {
          "output_type": "stream",
          "name": "stdout",
          "text": [
            "Original Matrix:\n",
            "      Col1  Col2  Col3\n",
            "Row1     4     7     2\n",
            "Row2     3     6     1\n",
            "Row3     2     5     3\n",
            "Adjoint Matrix\n",
            "      Row1  Row2  Row3\n",
            "Col1  13.0 -11.0  -5.0\n",
            "Col2  -7.0   8.0   2.0\n",
            "Col3   3.0  -6.0   3.0\n"
          ]
        }
      ]
    },
    {
      "cell_type": "markdown",
      "source": [
        "---\n",
        "### Derivatives and integrals\n",
        "---"
      ],
      "metadata": {
        "id": "C3_sAjS4wpjB"
      }
    },
    {
      "cell_type": "code",
      "source": [
        "import pandas as pd\n",
        "import numpy as np\n",
        "\n",
        "# Sample data: y = x^2\n",
        "data = {'x': [1, 2, 3, 4, 5], 'y': [1, 4, 9, 16, 25]}\n",
        "df = pd.DataFrame(data)\n",
        "\n",
        "# Calculate the derivative using finite differences\n",
        "df['dy_dx'] = df['y'].diff() / df['x'].diff()\n",
        "\n",
        "print(df)"
      ],
      "metadata": {
        "colab": {
          "base_uri": "https://localhost:8080/"
        },
        "id": "aCFiNzoW-EFK",
        "outputId": "caa325fc-7547-4440-c67d-ae7f028da326"
      },
      "execution_count": null,
      "outputs": [
        {
          "output_type": "stream",
          "name": "stdout",
          "text": [
            "   x   y  dy_dx\n",
            "0  1   1    NaN\n",
            "1  2   4    3.0\n",
            "2  3   9    5.0\n",
            "3  4  16    7.0\n",
            "4  5  25    9.0\n"
          ]
        }
      ]
    },
    {
      "cell_type": "code",
      "source": [
        "from scipy.integrate import simps\n",
        "\n",
        "# Using the same DataFrame\n",
        "# Compute the integral using the trapezoidal rule\n",
        "df['integral'] = np.cumsum((df['y'].shift(1) + df['y']) / 2 * df['x'].diff())\n",
        "\n",
        "# Alternatively, use Simpson's rule for better accuracy\n",
        "integral_simps = simps(df['y'], df['x'])\n",
        "\n",
        "print(\"Cumulative Integral (Trapezoidal):\")\n",
        "print(df)\n",
        "print(\"\\nTotal Integral (Simpson's Rule):\", integral_simps)"
      ],
      "metadata": {
        "colab": {
          "base_uri": "https://localhost:8080/"
        },
        "id": "xtNdV0aWyLa3",
        "outputId": "dce724c9-e303-4c98-f4d7-1988ae0ca25d"
      },
      "execution_count": null,
      "outputs": [
        {
          "output_type": "stream",
          "name": "stdout",
          "text": [
            "Cumulative Integral (Trapezoidal):\n",
            "   x   y  dy_dx  integral\n",
            "0  1   1    NaN       NaN\n",
            "1  2   4    3.0       2.5\n",
            "2  3   9    5.0       9.0\n",
            "3  4  16    7.0      21.5\n",
            "4  5  25    9.0      42.0\n",
            "\n",
            "Total Integral (Simpson's Rule): 41.33333333333333\n"
          ]
        },
        {
          "output_type": "stream",
          "name": "stderr",
          "text": [
            "<ipython-input-9-eedf8b22bd14>:8: DeprecationWarning: 'scipy.integrate.simps' is deprecated in favour of 'scipy.integrate.simpson' and will be removed in SciPy 1.14.0\n",
            "  integral_simps = simps(df['y'], df['x'])\n"
          ]
        }
      ]
    },
    {
      "cell_type": "markdown",
      "source": [
        "\n",
        "\n",
        "---\n",
        "\n",
        "### Gauss Elimination Method\n",
        "\n",
        "---\n",
        "\n"
      ],
      "metadata": {
        "id": "2Ndrc9f1vXK5"
      }
    },
    {
      "cell_type": "code",
      "source": [
        "import numpy as np"
      ],
      "metadata": {
        "id": "Fc5igzrYvfVz"
      },
      "execution_count": null,
      "outputs": []
    },
    {
      "cell_type": "code",
      "source": [
        "A=[\n",
        "    [1, 4, -1, -5],\n",
        "    [1, 1, -6, -12],\n",
        "    [3, -1, -1, 4]\n",
        "]\n",
        "A = np.array(A, dtype=float)\n",
        "n=len(A)\n",
        "for i in range(n):\n",
        "  max_row=max(range(i,n), key=lambda r: abs(A[r][i]))\n",
        "  A[[i, max_row]] = A[[max_row, i]]\n",
        "\n",
        "  for j in range(i+1,n):\n",
        "    factor = A[j][i]/A[i][i]\n",
        "    A[j, i:] -= factor * A[i, i:]\n",
        "\n",
        "x = np.zeros(n)\n",
        "for i in range(n - 1,-1,-1):\n",
        "  x[i] = (A[i, -1] - np.dot(A[i,i+1:n], x[i+1:n]))/A[i,i]\n",
        "\n",
        "print(\"The value for X, Y, Z:\", x)"
      ],
      "metadata": {
        "colab": {
          "base_uri": "https://localhost:8080/"
        },
        "id": "wufcxob6v4-8",
        "outputId": "cdcf476d-462c-4b3f-8247-aad3d2aeb844"
      },
      "execution_count": null,
      "outputs": [
        {
          "output_type": "stream",
          "name": "stdout",
          "text": [
            "The value for X, Y, Z: [ 1.64788732 -1.14084507  2.08450704]\n"
          ]
        }
      ]
    },
    {
      "cell_type": "markdown",
      "source": [
        "\n",
        "\n",
        "---\n",
        "\n",
        "### Eigen Value and Eigen Vector\n",
        "\n",
        "---\n",
        "\n"
      ],
      "metadata": {
        "id": "EnHpakp9WkPX"
      }
    },
    {
      "cell_type": "code",
      "source": [
        "# Define a 2x2 matrix\n",
        "A = [[4, 2],\n",
        "     [1, 3]]\n",
        "\n",
        "# Step 1: Find Eigenvalues\n",
        "a, b, c, d = A[0][0], A[0][1], A[1][0], A[1][1]\n",
        "trace = a + d  # Sum of diagonal elements\n",
        "determinant = a * d - b * c  # Determinant of the matrix\n",
        "\n",
        "# Solve λ^2 - (trace)λ + determinant = 0\n",
        "lambda1 = (trace + (trace**2 - 4 * determinant)**0.5) / 2\n",
        "lambda2 = (trace - (trace**2 - 4 * determinant)**0.5) / 2\n",
        "\n",
        "# Step 2: Find Eigenvectors\n",
        "def find_eigenvector(matrix, eigenvalue):\n",
        "    # Solve (A - λI)v = 0\n",
        "    A_minus_lambda_I = [[matrix[0][0] - eigenvalue, matrix[0][1]],\n",
        "                        [matrix[1][0], matrix[1][1] - eigenvalue]]\n",
        "    # Assume the eigenvector v = [x, y], let x = 1 for simplicity\n",
        "    x = 1\n",
        "    y = -A_minus_lambda_I[0][1] / A_minus_lambda_I[0][0]\n",
        "    return [x, y]\n",
        "\n",
        "eigenvector1 = find_eigenvector(A, lambda1)\n",
        "eigenvector2 = find_eigenvector(A, lambda2)\n",
        "\n",
        "# Display results\n",
        "print(\"Matrix A:\")\n",
        "for row in A:\n",
        "    print(row)\n",
        "\n",
        "print(\"\\nEigenvalues:\")\n",
        "print(f\"λ1 = {lambda1}, λ2 = {lambda2}\")\n",
        "\n",
        "print(\"\\nEigenvectors:\")\n",
        "print(f\"Eigenvector for λ1: {eigenvector1}\")\n",
        "print(f\"Eigenvector for λ2: {eigenvector2}\")"
      ],
      "metadata": {
        "id": "pJhiK81rMVcq",
        "colab": {
          "base_uri": "https://localhost:8080/"
        },
        "outputId": "31661454-4be8-439d-b832-96a8bce69004"
      },
      "execution_count": null,
      "outputs": [
        {
          "output_type": "stream",
          "name": "stdout",
          "text": [
            "Matrix A:\n",
            "[4, 2]\n",
            "[1, 3]\n",
            "\n",
            "Eigenvalues:\n",
            "λ1 = 5.0, λ2 = 2.0\n",
            "\n",
            "Eigenvectors:\n",
            "Eigenvector for λ1: [1, 2.0]\n",
            "Eigenvector for λ2: [1, -1.0]\n"
          ]
        }
      ]
    },
    {
      "cell_type": "markdown",
      "source": [
        "---\n",
        "\n",
        "Eigen Value and Eigen Vector with function\n",
        "\n",
        "---"
      ],
      "metadata": {
        "id": "aQu8bhpLFkJY"
      }
    },
    {
      "cell_type": "code",
      "source": [
        "import pandas as pd\n",
        "import numpy as np\n",
        "\n",
        "# Create a sample DataFrame\n",
        "data = {\n",
        "    \"A\": [2, 4, 6],\n",
        "    \"B\": [1, 3, 5],\n",
        "    \"C\": [5, 7, 9]\n",
        "}\n",
        "df = pd.DataFrame(data)\n",
        "\n",
        "# Compute the covariance matrix\n",
        "cov_matrix = df.cov()\n",
        "\n",
        "# Compute eigenvalues and eigenvectors\n",
        "eigenvalues, eigenvectors = np.linalg.eig(cov_matrix)\n",
        "\n",
        "# Display the results\n",
        "print(\"Covariance Matrix:\")\n",
        "print(cov_matrix)\n",
        "print(\"\\nEigenvalues:\")\n",
        "print(eigenvalues)\n",
        "print(\"\\nEigenvectors:\")\n",
        "print(eigenvectors)"
      ],
      "metadata": {
        "id": "DgHEiYAGyQF5",
        "colab": {
          "base_uri": "https://localhost:8080/"
        },
        "outputId": "1fef19e6-d537-48b4-e542-8d394af51a48"
      },
      "execution_count": null,
      "outputs": [
        {
          "output_type": "stream",
          "name": "stdout",
          "text": [
            "Covariance Matrix:\n",
            "     A    B    C\n",
            "A  4.0  4.0  4.0\n",
            "B  4.0  4.0  4.0\n",
            "C  4.0  4.0  4.0\n",
            "\n",
            "Eigenvalues:\n",
            "[-8.8817842e-16  1.2000000e+01  0.0000000e+00]\n",
            "\n",
            "Eigenvectors:\n",
            "[[-0.81649658  0.57735027  0.        ]\n",
            " [ 0.40824829  0.57735027 -0.70710678]\n",
            " [ 0.40824829  0.57735027  0.70710678]]\n"
          ]
        }
      ]
    },
    {
      "cell_type": "markdown",
      "source": [
        "# PCA"
      ],
      "metadata": {
        "id": "i5xOUgxaaTp6"
      }
    },
    {
      "cell_type": "markdown",
      "source": [
        "\n",
        "\n",
        "---\n",
        "\n",
        "Without Function\n",
        "\n",
        "---\n",
        "\n"
      ],
      "metadata": {
        "id": "Ot8TsuejLInk"
      }
    },
    {
      "cell_type": "code",
      "source": [
        "import pandas as pd\n",
        "import numpy as np\n",
        "\n",
        "# Load data\n",
        "data = pd.read_csv(\"/content/customer_churn_dataset-training-master.csv\")\n",
        "print(data)\n",
        "\n",
        "# Handle missing values\n",
        "data = data.dropna()\n",
        "\n",
        "# Select numerical features\n",
        "numerical_cols = ['Age', 'Tenure', 'Usage Frequency', 'Support Calls',\n",
        "                  'Payment Delay', 'Total Spend', 'Last Interaction']\n",
        "X = data[numerical_cols].values  # Convert to NumPy array for matrix operations\n",
        "\n",
        "# Step 1: Standardize the data (manual scaling)\n",
        "X_mean = np.mean(X, axis=0)\n",
        "X_std = np.std(X, axis=0)\n",
        "X_scaled = (X - X_mean) / X_std\n",
        "\n",
        "# Step 2: Compute the covariance matrix\n",
        "cov_matrix = np.cov(X_scaled, rowvar=False)\n",
        "\n",
        "# Step 3: Eigen decomposition\n",
        "eigenvalues, eigenvectors = np.linalg.eig(cov_matrix)\n",
        "\n",
        "# Step 4: Sort eigenvalues and eigenvectors in descending order\n",
        "sorted_indices = np.argsort(eigenvalues)[::-1]\n",
        "eigenvalues = eigenvalues[sorted_indices]\n",
        "eigenvectors = eigenvectors[:, sorted_indices]\n",
        "\n",
        "# Step 5: Select the top 2 eigenvectors\n",
        "n_components = 2\n",
        "top_eigenvectors = eigenvectors[:, :n_components]\n",
        "\n",
        "# Step 6: Project the data onto the top principal components\n",
        "X_pca = np.dot(X_scaled, top_eigenvectors)\n",
        "\n",
        "# Explained variance ratio\n",
        "explained_variance = eigenvalues[:n_components] / np.sum(eigenvalues)\n",
        "\n",
        "# Print results\n",
        "print(f\"Explained variance ratio: {explained_variance}\")\n",
        "print(f\"Transformed dataset shape: {X_pca.shape}\")\n",
        "#1,3,4,5,6,9,10"
      ],
      "metadata": {
        "colab": {
          "base_uri": "https://localhost:8080/"
        },
        "id": "aNJclYMiLL1S",
        "outputId": "0f266406-0b6a-4f88-f4f2-df80c23b37de"
      },
      "execution_count": 8,
      "outputs": [
        {
          "output_type": "stream",
          "name": "stdout",
          "text": [
            "        CustomerID   Age  Gender  Tenure  Usage Frequency  Support Calls  \\\n",
            "0              2.0  30.0  Female    39.0             14.0            5.0   \n",
            "1              3.0  65.0  Female    49.0              1.0           10.0   \n",
            "2              4.0  55.0  Female    14.0              4.0            6.0   \n",
            "3              5.0  58.0    Male    38.0             21.0            7.0   \n",
            "4              6.0  23.0    Male    32.0             20.0            5.0   \n",
            "...            ...   ...     ...     ...              ...            ...   \n",
            "440828    449995.0  42.0    Male    54.0             15.0            1.0   \n",
            "440829    449996.0  25.0  Female     8.0             13.0            1.0   \n",
            "440830    449997.0  26.0    Male    35.0             27.0            1.0   \n",
            "440831    449998.0  28.0    Male    55.0             14.0            2.0   \n",
            "440832    449999.0  31.0    Male    48.0             20.0            1.0   \n",
            "\n",
            "        Payment Delay Subscription Type Contract Length  Total Spend  \\\n",
            "0                18.0          Standard          Annual       932.00   \n",
            "1                 8.0             Basic         Monthly       557.00   \n",
            "2                18.0             Basic       Quarterly       185.00   \n",
            "3                 7.0          Standard         Monthly       396.00   \n",
            "4                 8.0             Basic         Monthly       617.00   \n",
            "...               ...               ...             ...          ...   \n",
            "440828            3.0           Premium          Annual       716.38   \n",
            "440829           20.0           Premium          Annual       745.38   \n",
            "440830            5.0          Standard       Quarterly       977.31   \n",
            "440831            0.0          Standard       Quarterly       602.55   \n",
            "440832           14.0           Premium       Quarterly       567.77   \n",
            "\n",
            "        Last Interaction  Churn  \n",
            "0                   17.0    1.0  \n",
            "1                    6.0    1.0  \n",
            "2                    3.0    1.0  \n",
            "3                   29.0    1.0  \n",
            "4                   20.0    1.0  \n",
            "...                  ...    ...  \n",
            "440828               8.0    0.0  \n",
            "440829               2.0    0.0  \n",
            "440830               9.0    0.0  \n",
            "440831               2.0    0.0  \n",
            "440832              21.0    0.0  \n",
            "\n",
            "[440833 rows x 12 columns]\n",
            "Explained variance ratio: [0.20726424 0.1466887 ]\n",
            "Transformed dataset shape: (440832, 2)\n"
          ]
        }
      ]
    },
    {
      "cell_type": "markdown",
      "source": [
        "\n",
        "\n",
        "---\n",
        "\n",
        "With Function\n",
        "\n",
        "---\n",
        "\n"
      ],
      "metadata": {
        "id": "SvdUgdGvLFFy"
      }
    },
    {
      "cell_type": "code",
      "source": [
        "import pandas as pd\n",
        "import numpy as np\n",
        "from sklearn.decomposition import PCA\n",
        "from sklearn.preprocessing import StandardScaler\n",
        "\n",
        "data=pd.read_csv(\"/content/customer_churn_dataset-training-master.csv\")\n",
        "print(data)\n",
        "\n",
        "# Handle missing values\n",
        "data = data.dropna()\n",
        "\n",
        "# Select numerical features\n",
        "numerical_cols = ['Age', 'Tenure', 'Usage Frequency', 'Support Calls',\n",
        "                  'Payment Delay', 'Total Spend', 'Last Interaction']\n",
        "X = data[numerical_cols]\n",
        "\n",
        "# Standardize the data\n",
        "scaler = StandardScaler()\n",
        "X_scaled = scaler.fit_transform(X)\n",
        "\n",
        "# Apply PCA\n",
        "pca = PCA(n_components=2)  # Reduce to 2 dimensions\n",
        "X_pca = pca.fit_transform(X_scaled)\n",
        "\n",
        "# Explained variance ratio\n",
        "explained_variance = pca.explained_variance_ratio_\n",
        "\n",
        "# Print results\n",
        "print(f\"Explained variance ratio: {explained_variance}\")\n",
        "print(f\"Transformed dataset shape: {X_pca.shape}\")"
      ],
      "metadata": {
        "id": "7DcKKZiLIiVb",
        "colab": {
          "base_uri": "https://localhost:8080/"
        },
        "outputId": "24b8891e-0f02-4625-f100-8ec4f2c226b8"
      },
      "execution_count": null,
      "outputs": [
        {
          "output_type": "stream",
          "name": "stdout",
          "text": [
            "        CustomerID   Age  Gender  Tenure  Usage Frequency  Support Calls  \\\n",
            "0              2.0  30.0  Female    39.0             14.0            5.0   \n",
            "1              3.0  65.0  Female    49.0              1.0           10.0   \n",
            "2              4.0  55.0  Female    14.0              4.0            6.0   \n",
            "3              5.0  58.0    Male    38.0             21.0            7.0   \n",
            "4              6.0  23.0    Male    32.0             20.0            5.0   \n",
            "...            ...   ...     ...     ...              ...            ...   \n",
            "440828    449995.0  42.0    Male    54.0             15.0            1.0   \n",
            "440829    449996.0  25.0  Female     8.0             13.0            1.0   \n",
            "440830    449997.0  26.0    Male    35.0             27.0            1.0   \n",
            "440831    449998.0  28.0    Male    55.0             14.0            2.0   \n",
            "440832    449999.0  31.0    Male    48.0             20.0            1.0   \n",
            "\n",
            "        Payment Delay Subscription Type Contract Length  Total Spend  \\\n",
            "0                18.0          Standard          Annual       932.00   \n",
            "1                 8.0             Basic         Monthly       557.00   \n",
            "2                18.0             Basic       Quarterly       185.00   \n",
            "3                 7.0          Standard         Monthly       396.00   \n",
            "4                 8.0             Basic         Monthly       617.00   \n",
            "...               ...               ...             ...          ...   \n",
            "440828            3.0           Premium          Annual       716.38   \n",
            "440829           20.0           Premium          Annual       745.38   \n",
            "440830            5.0          Standard       Quarterly       977.31   \n",
            "440831            0.0          Standard       Quarterly       602.55   \n",
            "440832           14.0           Premium       Quarterly       567.77   \n",
            "\n",
            "        Last Interaction  Churn  \n",
            "0                   17.0    1.0  \n",
            "1                    6.0    1.0  \n",
            "2                    3.0    1.0  \n",
            "3                   29.0    1.0  \n",
            "4                   20.0    1.0  \n",
            "...                  ...    ...  \n",
            "440828               8.0    0.0  \n",
            "440829               2.0    0.0  \n",
            "440830               9.0    0.0  \n",
            "440831               2.0    0.0  \n",
            "440832              21.0    0.0  \n",
            "\n",
            "[440833 rows x 12 columns]\n",
            "Explained variance ratio: [0.20726424 0.1466887 ]\n",
            "Transformed dataset shape: (440832, 2)\n"
          ]
        }
      ]
    },
    {
      "cell_type": "markdown",
      "source": [
        "\n",
        "*   The 1st principal component captures 45% of the dataset’s variability.\n",
        "*   The 2nd principal component captures 30% of the variability.\n",
        "*   Together, these two components capture 75% of the total variability, which is a good reduction.\n",
        "\n",
        "\n",
        "  PCA reduces the dimensions to 2D or 3D for easier visualization,\n",
        "  Noise Reduction,\n",
        " Improved Model Performance\n",
        "###  Explained Variance Ratio:\n",
        "[0.20726424, 0.1466887] means the first two PCA components explain ~35.37% (20.73% + 14.67%) of the total variance in the dataset.\n",
        "This suggests that while the dimensionality was reduced, some information loss occurred. You may want to experiment with using more components if accuracy is critical."
      ],
      "metadata": {
        "id": "dMeqpUsrakeu"
      }
    },
    {
      "cell_type": "markdown",
      "source": [
        "\n",
        "\n",
        "---\n",
        "\n",
        "PCA with Function and Using LINEAR REGRESSION\n",
        "\n",
        "---\n",
        "\n"
      ],
      "metadata": {
        "id": "U-cv-FZJcBOG"
      }
    },
    {
      "cell_type": "code",
      "source": [
        "# Assuming 'churn' is a column name in the DataFrame `data`\n",
        "y = data['Churn'].values\n",
        "regressor = LinearRegression()\n",
        "regressor.fit(X_pca, y)\n",
        "\n",
        "y_pred = regressor.predict(X_pca)\n",
        "\n",
        "print(\"Predictions:\", y_pred)"
      ],
      "metadata": {
        "colab": {
          "base_uri": "https://localhost:8080/"
        },
        "id": "Rb-HuPt7Xdt5",
        "outputId": "509bb4ad-e16f-4e6d-8ebe-3a6607d57bcd"
      },
      "execution_count": null,
      "outputs": [
        {
          "output_type": "stream",
          "name": "stdout",
          "text": [
            "Predictions: [ 0.47111119  1.04865882  1.12767983 ... -0.07821111  0.09586095\n",
            "  0.42841468]\n"
          ]
        }
      ]
    },
    {
      "cell_type": "markdown",
      "source": [
        "\n",
        "3. Regression Results:\n",
        "Predictions (y_pred):\n",
        "\n",
        "The predictions range between values like -0.078 to 1.127. Since these are the output of a regression model, they are continuous values, not discrete class labels (e.g., 0 or 1 for churn).\n",
        "This implies that the model is predicting a likelihood or propensity to churn, not a direct binary classification."
      ],
      "metadata": {
        "id": "LR9-RqDXXcjt"
      }
    },
    {
      "cell_type": "markdown",
      "source": [
        "\n",
        "\n",
        "---\n",
        "\n",
        "\n",
        "# SVD\n",
        "\n",
        "---\n",
        "\n"
      ],
      "metadata": {
        "id": "WvENYfKXcKr1"
      }
    },
    {
      "cell_type": "markdown",
      "source": [
        "\n",
        "\n",
        "---\n",
        "\n",
        "Without Function\n",
        "\n",
        "---\n",
        "\n"
      ],
      "metadata": {
        "id": "WzBsW2C5UDpR"
      }
    },
    {
      "cell_type": "code",
      "source": [
        "import pandas as pd\n",
        "import numpy as np\n",
        "\n",
        "# Load and preprocess data\n",
        "data = pd.read_csv(\"/content/customer_churn_dataset-training-master.csv\")\n",
        "data = data.dropna()\n",
        "\n",
        "# Select numerical features\n",
        "numerical_cols = ['Age', 'Tenure', 'Usage Frequency', 'Support Calls',\n",
        "                  'Payment Delay', 'Total Spend', 'Last Interaction']\n",
        "X = data[numerical_cols].values  # Convert to NumPy array\n",
        "\n",
        "# Step 1: Standardize the data\n",
        "X_mean = np.mean(X, axis=0)\n",
        "X_std = np.std(X, axis=0)\n",
        "X_scaled = (X - X_mean) / X_std\n",
        "\n",
        "# Step 2: Compute SVD manually\n",
        "U, S, Vt = np.linalg.svd(X_scaled, full_matrices=False)\n",
        "\n",
        "# Step 3: Select the top 2 singular values/components\n",
        "n_components = 2\n",
        "S_reduced = S[:n_components]\n",
        "Vt_reduced = Vt[:n_components, :]\n",
        "\n",
        "# Project the data onto the top components\n",
        "X_svd = np.dot(X_scaled, Vt_reduced.T)\n",
        "\n",
        "# Step 4: Calculate explained variance ratio\n",
        "total_variance = np.sum(S**2)\n",
        "explained_variance = (S_reduced**2) / total_variance\n",
        "cumulative_variance = np.cumsum(explained_variance)\n",
        "\n",
        "# Print results\n",
        "print(f\"Explained variance ratio: {explained_variance}\")\n",
        "print(f\"Cumulative explained variance: {cumulative_variance}\")\n",
        "print(f\"Transformed dataset shape: {X_svd.shape}\")"
      ],
      "metadata": {
        "id": "8KcKgl9iUDbt"
      },
      "execution_count": null,
      "outputs": []
    },
    {
      "cell_type": "markdown",
      "source": [
        "The Singular Value Decomposition (SVD) splits a matrix ￼ into three matrices U, S, and VT, with use cases tied to their mathematical and structural properties.\n",
        "\n",
        "Decomposition:\n",
        "\n",
        "￼\n",
        "Where:\n",
        "\t•\tU : Left singular vectors, capturing the row space of ￼.\n",
        "\t•\tS￼: Singular values (diagonal matrix), indicating the importance (variance) of each singular vector.\n",
        "\t•\tVT￼: Right singular vectors, capturing the column space of ￼.\n",
        "\n",
        "Use Cases of U, S, and VT:\n",
        "\n",
        "######1. Dimensionality Reduction (e.g., PCA, LSA)\n",
        "\t•\tGoal: Reduce the number of features while retaining as much information as possible.\n",
        "\t•\tUsage:\n",
        "\t•\tU￼: Provides principal directions (eigenvectors) to project data into lower dimensions.\n",
        "\t•\tS￼: Indicates how much variance is captured along each direction.\n",
        "\t•\tVT￼: Provides the transformed data in the reduced-dimensional space.\n",
        "\n",
        "######2. Data Compression\n",
        "\t•\tGoal: Store a matrix more efficiently by truncating less important singular values.\n",
        "\t•\tUsage:\n",
        "\t•\tRetain only the top ￼ singular values and vectors (rank-￼ approximation).\n",
        "\t•\tU￼ and S￼: Used to reconstruct an approximation of ￼.\n",
        "\t•\tVT￼: Stores the most important singular values to approximate the original data.\n",
        "\n",
        "######3. Noise Filtering\n",
        "\t•\tGoal: Remove small singular values associated with noise.\n",
        "\t•\tUsage:\n",
        "\t•\tDiscard components corresponding to the smallest singular values in ￼.\n",
        "\t•\tUse U￼, S￼, and VT￼ with only the larger singular values to reconstruct the data without noise.\n",
        "\n",
        "######4. Recommendation Systems\n",
        "\t•\tGoal: Predict user preferences based on incomplete data (e.g., Netflix recommendations).\n",
        "\t•\tUsage:\n",
        "\t•\tU￼: Encodes user preferences.\n",
        "\t•\tS￼: Represents the importance of features.\n",
        "\t•\tVT￼: Encodes item features.\n",
        "\n",
        "######5. Latent Semantic Analysis (LSA) in NLP\n",
        "\t•\tGoal: Identify relationships between terms and documents.\n",
        "\t•\tUsage:\n",
        "\t•\tU￼: Captures the term-document matrix (topics).\n",
        "\t•\tS￼: Represents the significance of each topic.\n",
        "\t•\tVT￼: Encodes document-topic relationships.\n",
        "\n",
        "######6. Image Compression\n",
        "\t•\tGoal: Reduce the storage size of an image while preserving key details.\n",
        "\t•\tUsage:\n",
        "\t•\t￼U and S￼: Represent spatial patterns in the image.\n",
        "\t•\tVT￼: Encodes the importance of each pattern (intensity).\n",
        "\n",
        "\n",
        "######Summary Table:\n",
        "\n",
        "  • U : Row-space transformations, projections\n",
        "  • S  : Feature importance, noise filtering\n",
        "  • VT : Column-space transformations, dimensionality reduction"
      ],
      "metadata": {
        "id": "eObd1bCeU_md"
      }
    },
    {
      "cell_type": "markdown",
      "source": [
        "\n",
        "\n",
        "---\n",
        "\n",
        "With Function\n",
        "\n",
        "---\n",
        "\n"
      ],
      "metadata": {
        "id": "lNaqVBtWUAAM"
      }
    },
    {
      "cell_type": "code",
      "source": [
        "import pandas as pd\n",
        "import numpy as np\n",
        "from sklearn.decomposition import TruncatedSVD\n",
        "from sklearn.preprocessing import StandardScaler\n",
        "\n",
        "\n",
        "# Handle missing values\n",
        "data = data.dropna()\n",
        "\n",
        "# Select numerical features\n",
        "numerical_cols = ['Age', 'Tenure', 'Usage Frequency', 'Support Calls',\n",
        "                  'Payment Delay', 'Total Spend', 'Last Interaction']\n",
        "X = data[numerical_cols]\n",
        "\n",
        "# Standardize the data\n",
        "scaler = StandardScaler()\n",
        "X_scaled = scaler.fit_transform(X)\n",
        "\n",
        "# Apply SVD\n",
        "svd = TruncatedSVD(n_components=2)  # Reduce to 2 components\n",
        "X_svd = svd.fit_transform(X_scaled)\n",
        "\n",
        "# Explained variance\n",
        "explained_variance = svd.explained_variance_ratio_\n",
        "cumulative_variance = np.cumsum(explained_variance)\n",
        "\n",
        "# Print results\n",
        "print(f\"Explained variance ratio: {explained_variance}\")\n",
        "print(f\"Cumulative explained variance: {cumulative_variance}\")\n",
        "print(f\"Transformed dataset shape: {X_svd.shape}\")"
      ],
      "metadata": {
        "colab": {
          "base_uri": "https://localhost:8080/"
        },
        "id": "MQ1abV1fbkvT",
        "outputId": "ff59dcf0-7fcc-4c72-fc9e-b513a0e69c5d"
      },
      "execution_count": null,
      "outputs": [
        {
          "output_type": "stream",
          "name": "stdout",
          "text": [
            "Explained variance ratio: [0.20726424 0.1466887 ]\n",
            "Cumulative explained variance: [0.20726424 0.35395294]\n",
            "Transformed dataset shape: (440832, 2)\n"
          ]
        }
      ]
    },
    {
      "cell_type": "markdown",
      "source": [
        "###### 1. Explained Variance Ratio\n",
        "\t•\tValues: [0.20726424, 0.1466887]\n",
        "\t•\tThe 1st singular component explains 20.73% of the total variance in the dataset.\n",
        "\t•\tThe 2nd singular component explains 14.67% of the total variance.\n",
        "\n",
        "######Insight:\n",
        "\t•\tThese two components together capture 35.39% of the dataset’s variability.\n",
        "\t•\tThis indicates that there’s still about 64.61% of the variance in the data that isn’t captured by these two components.\n",
        "\n",
        "######2. Cumulative Explained Variance\n",
        "\t•\tValues: [0.20726424, 0.35395294]\n",
        "\t•\tThe cumulative explained variance shows the total variance captured by the first two components combined.\n",
        "\t•\tHere, the first two components together explain 35.39% of the variance.\n",
        "\n",
        "######Insight:\n",
        "\t•\tIf your goal is to retain a significant amount of information (e.g., >80%), you may need to include more components.\n",
        "\t•\tHowever, if this level of variance capture is sufficient for your application (e.g., visualization or pattern discovery), you can work with just these two components."
      ],
      "metadata": {
        "id": "dDsSkxoKcce8"
      }
    }
  ]
}